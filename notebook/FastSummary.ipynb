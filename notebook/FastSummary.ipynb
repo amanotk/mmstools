{
 "cells": [
  {
   "cell_type": "code",
   "execution_count": null,
   "metadata": {},
   "outputs": [],
   "source": [
    "# run without Qt\n",
    "import os\n",
    "os.environ['PYTPLOT_NO_GRAPHICS'] = '1'\n",
    "\n",
    "import matplotlib\n",
    "from matplotlib import pyplot as plt\n",
    "\n",
    "import pytplot\n",
    "import pyspedas\n",
    "import aspy\n",
    "from mmstools import fastsummary"
   ]
  },
  {
   "cell_type": "code",
   "execution_count": null,
   "metadata": {},
   "outputs": [],
   "source": [
    "reload(fastsummary)\n",
    "probe  = 1\n",
    "trange = ['2015-11-04 04:00:00', '2015-11-04 06:00:00']\n",
    "\n",
    "fig, data = fastsummary.load_and_plot(probe, trange, backend='matplotlib')"
   ]
  },
  {
   "cell_type": "code",
   "execution_count": null,
   "metadata": {},
   "outputs": [],
   "source": []
  }
 ],
 "metadata": {
  "kernelspec": {
   "display_name": "Python 3",
   "language": "python",
   "name": "python3"
  },
  "language_info": {
   "codemirror_mode": {
    "name": "ipython",
    "version": 3
   },
   "file_extension": ".py",
   "mimetype": "text/x-python",
   "name": "python",
   "nbconvert_exporter": "python",
   "pygments_lexer": "ipython3",
   "version": "3.7.9"
  }
 },
 "nbformat": 4,
 "nbformat_minor": 2
}
